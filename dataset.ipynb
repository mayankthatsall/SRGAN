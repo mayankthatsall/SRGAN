{
 "cells": [
  {
   "cell_type": "code",
   "execution_count": 1,
   "id": "3aa151e6",
   "metadata": {},
   "outputs": [],
   "source": [
    "import cv2\n",
    "import numpy as np\n",
    "import os\n",
    "import matplotlib.pyplot as plt"
   ]
  },
  {
   "cell_type": "code",
   "execution_count": 2,
   "id": "af649aaa",
   "metadata": {},
   "outputs": [],
   "source": [
    "train_dir = \"data\" "
   ]
  },
  {
   "cell_type": "code",
   "execution_count": null,
   "id": "6a0c74c9",
   "metadata": {},
   "outputs": [],
   "source": [
    "import torch\n",
    "\n",
    "print(torch.cuda.is_available())"
   ]
  },
  {
   "cell_type": "code",
   "execution_count": null,
   "id": "4ae2239a",
   "metadata": {},
   "outputs": [],
   "source": [
    "!nvidia-smi"
   ]
  },
  {
   "cell_type": "code",
   "execution_count": 3,
   "id": "3bcb7843",
   "metadata": {},
   "outputs": [],
   "source": [
    "for img in os.listdir( train_dir + \"/original_images\"):\n",
    "    img_array = cv2.imread(train_dir + \"/original_images/\" + img)\n",
    "    \n",
    "    img_array = cv2.resize(img_array, (128,128))\n",
    "    lr_img_array = cv2.resize(img_array,(32,32))\n",
    "    cv2.imwrite(train_dir+ \"/hr_images/\" + img, img_array)\n",
    "    cv2.imwrite(train_dir+ \"/lr_images/\"+ img, lr_img_array)"
   ]
  },
  {
   "cell_type": "code",
   "execution_count": null,
   "id": "d844ea37",
   "metadata": {},
   "outputs": [],
   "source": []
  }
 ],
 "metadata": {
  "kernelspec": {
   "display_name": "Python 3 (ipykernel)",
   "language": "python",
   "name": "python3"
  },
  "language_info": {
   "codemirror_mode": {
    "name": "ipython",
    "version": 3
   },
   "file_extension": ".py",
   "mimetype": "text/x-python",
   "name": "python",
   "nbconvert_exporter": "python",
   "pygments_lexer": "ipython3",
   "version": "3.9.13"
  }
 },
 "nbformat": 4,
 "nbformat_minor": 5
}
